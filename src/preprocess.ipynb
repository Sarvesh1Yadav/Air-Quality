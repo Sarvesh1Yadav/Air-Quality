import pandas as pd
import numpy as np
import seaborn as sns
import matplotlib.pyplot as plt

df = pd.read_csv('/content/data.csv',encoding='ISO-8859-1')
df.head(2)

df.duplicated().sum()

df.shape

df.drop_duplicates(inplace=True)
df.isna().sum()

df.columns

df.info()

df.describe()

df["date"] = df["date"].replace("1997-01", "1997-01-01")

df['date'] = pd.to_datetime(df['date'],format='%Y-%m-%d')
df['year'] = df['date'].dt.year
df['year'] = df['year'].fillna(df["year"].min())
df['year'] = df['year'].values.astype(int)

df.drop(columns = ['stn_code','sampling_date','agency','location_monitoring_station','date'],inplace = True)

df.columns

df['type'].unique()

df.dropna(subset = ['type'],inplace = True)

df.isna().sum()

sns.distplot(df['no2'])

df['no2_log'] = np.log1p(df['no2'])
df['no2_log'].fillna(df['no2_log'].median(), inplace=True)
df['no2'] = np.expm1(df['no2_log'])

df['so2_log'] = np.log1p(df['so2'])
df['so2_log'].fillna(df['so2_log'].median(), inplace=True)
df['so2'] = np.expm1(df['so2_log'])

df.drop(columns = ['no2_log','so2_log'],inplace = True)

sns.histplot(df['rspm'], kde=True, bins=50)
plt.title("Distribution of RSPM Levels")
plt.show()

m = df.groupby('state')['rspm'].nunique().reset_index()
m
# Plot Bar Chart
plt.figure(figsize=(8, 5))
sns.barplot(x='state', y='rspm', data=m)
plt.xticks(rotation=80)
plt.show()

df['rspm'] = df.groupby('state')['rspm'].transform(lambda x: x.fillna(x.median()))

sns.histplot(df['spm'], kde=True, bins=50)
plt.title("Distribution of SPM Levels")
plt.show()

df['spm'].fillna(df['spm'].median(), inplace=True)

plt.figure(figsize=(30, 10))
plt.xticks(rotation=90)
sns.barplot(x='state',y='pm2_5',data=df);

df.isna().sum()

g = sns.catplot(x = "type", kind = "count",  data = df, height=5, aspect = 4,palette="dark")
g.set_xticklabels(rotation=45)
g.fig.set_size_inches(15, 9)
plt.show()
